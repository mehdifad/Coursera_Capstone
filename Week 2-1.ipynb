{
    "cells": [
        {
            "cell_type": "markdown",
            "metadata": {
                "collapsed": true
            },
            "source": "# Applied Data Science Capstone\n## Week 3 - Part 1"
        },
        {
            "cell_type": "markdown",
            "metadata": {},
            "source": "### Importing Libraries"
        },
        {
            "cell_type": "code",
            "execution_count": 4,
            "metadata": {},
            "outputs": [],
            "source": "import pandas as pd\nimport requests\nfrom bs4 import BeautifulSoup"
        },
        {
            "cell_type": "markdown",
            "metadata": {},
            "source": "### Scraping the Wikipedia page "
        },
        {
            "cell_type": "code",
            "execution_count": 51,
            "metadata": {},
            "outputs": [],
            "source": "source = 'https://en.wikipedia.org/wiki/List_of_postal_codes_of_Canada:_M'\nresponse = requests.get(source).text\nparsed = BeautifulSoup(response, 'html.parser')\n\n# Removing header row from the table\nparsed.tbody.tr.extract()\n\ntemp = []\nfor tr in parsed.tbody.find_all('tr'):    \n    temp.append([td.get_text().strip() for td in tr.find_all('td')])\n    #removing all Not assigned items\n    if temp[-1][1]=='Not assigned':\n        temp.pop()"
        },
        {
            "cell_type": "markdown",
            "metadata": {},
            "source": "### Creating data frame and clean up"
        },
        {
            "cell_type": "code",
            "execution_count": 59,
            "metadata": {},
            "outputs": [],
            "source": "df=pd.DataFrame(temp,columns=['PostalCode','Borough','Neighborhood'])\n\n# Grouping rows with the same postal code\ndf=df.groupby(['PostalCode','Borough'])['Neighborhood'].apply(', '.join).reset_index()\n\n# Grouping rows with the same postal code\nfor index, row in df.iterrows():\n    if row['Neighborhood'] == 'Not assigned':\n        row['Neighborhood'] = row['Borough']"
        },
        {
            "cell_type": "code",
            "execution_count": null,
            "metadata": {},
            "outputs": [],
            "source": ""
        }
    ],
    "metadata": {
        "kernelspec": {
            "display_name": "Python 3.7",
            "language": "python",
            "name": "python3"
        },
        "language_info": {
            "codemirror_mode": {
                "name": "ipython",
                "version": 3
            },
            "file_extension": ".py",
            "mimetype": "text/x-python",
            "name": "python",
            "nbconvert_exporter": "python",
            "pygments_lexer": "ipython3",
            "version": "3.7.9"
        }
    },
    "nbformat": 4,
    "nbformat_minor": 1
}